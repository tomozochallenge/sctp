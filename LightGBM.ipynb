{
 "cells": [
  {
   "cell_type": "code",
   "execution_count": 3,
   "metadata": {},
   "outputs": [
    {
     "name": "stderr",
     "output_type": "stream",
     "text": [
      "/Users/takuro17/.pyenv/versions/anaconda3-5.0.1/lib/python3.6/site-packages/lightgbm/__init__.py:46: UserWarning: Starting from version 2.2.1, the library file in distribution wheels for macOS is built by the Apple Clang (Xcode_9.4.1) compiler.\n",
      "This means that in case of installing LightGBM from PyPI via the ``pip install lightgbm`` command, you don't need to install the gcc compiler anymore.\n",
      "Instead of that, you need to install the OpenMP library, which is required for running LightGBM on the system with the Apple Clang compiler.\n",
      "You can install the OpenMP library by the following command: ``brew install libomp``.\n",
      "  \"You can install the OpenMP library by the following command: ``brew install libomp``.\", UserWarning)\n"
     ]
    }
   ],
   "source": [
    "import pandas as pd\n",
    "from matplotlib import pyplot as plt\n",
    "from sklearn import tree\n",
    "from sklearn.model_selection import cross_val_score\n",
    "import lightgbm as lgb\n",
    "import numpy as np"
   ]
  },
  {
   "cell_type": "code",
   "execution_count": 2,
   "metadata": {},
   "outputs": [
    {
     "ename": "NameError",
     "evalue": "name 'pd' is not defined",
     "output_type": "error",
     "traceback": [
      "\u001b[0;31m---------------------------------------------------------------------------\u001b[0m",
      "\u001b[0;31mNameError\u001b[0m                                 Traceback (most recent call last)",
      "\u001b[0;32m<ipython-input-2-a0338fbd9eb1>\u001b[0m in \u001b[0;36m<module>\u001b[0;34m()\u001b[0m\n\u001b[0;32m----> 1\u001b[0;31m \u001b[0mtrain_df\u001b[0m \u001b[0;34m=\u001b[0m \u001b[0mpd\u001b[0m\u001b[0;34m.\u001b[0m\u001b[0mread_csv\u001b[0m\u001b[0;34m(\u001b[0m\u001b[0;34m\"resources/train.csv\"\u001b[0m\u001b[0;34m)\u001b[0m\u001b[0;34m\u001b[0m\u001b[0;34m\u001b[0m\u001b[0m\n\u001b[0m\u001b[1;32m      2\u001b[0m \u001b[0mtest_df\u001b[0m \u001b[0;34m=\u001b[0m \u001b[0mpd\u001b[0m\u001b[0;34m.\u001b[0m\u001b[0mread_csv\u001b[0m\u001b[0;34m(\u001b[0m\u001b[0;34m\"resources/test.csv\"\u001b[0m\u001b[0;34m)\u001b[0m\u001b[0;34m\u001b[0m\u001b[0;34m\u001b[0m\u001b[0m\n\u001b[1;32m      3\u001b[0m \u001b[0msubmit_sample\u001b[0m \u001b[0;34m=\u001b[0m \u001b[0mpd\u001b[0m\u001b[0;34m.\u001b[0m\u001b[0mread_csv\u001b[0m\u001b[0;34m(\u001b[0m\u001b[0;34m\"resources/sample_submission.csv\"\u001b[0m\u001b[0;34m)\u001b[0m\u001b[0;34m\u001b[0m\u001b[0;34m\u001b[0m\u001b[0m\n",
      "\u001b[0;31mNameError\u001b[0m: name 'pd' is not defined"
     ]
    }
   ],
   "source": [
    "train_df = pd.read_csv(\"resources/train.csv\")\n",
    "test_df = pd.read_csv(\"resources/test.csv\")\n",
    "submit_sample = pd.read_csv(\"resources/sample_submission.csv\")"
   ]
  },
  {
   "cell_type": "code",
   "execution_count": 3,
   "metadata": {},
   "outputs": [
    {
     "data": {
      "text/html": [
       "<div>\n",
       "<style>\n",
       "    .dataframe thead tr:only-child th {\n",
       "        text-align: right;\n",
       "    }\n",
       "\n",
       "    .dataframe thead th {\n",
       "        text-align: left;\n",
       "    }\n",
       "\n",
       "    .dataframe tbody tr th {\n",
       "        vertical-align: top;\n",
       "    }\n",
       "</style>\n",
       "<table border=\"1\" class=\"dataframe\">\n",
       "  <thead>\n",
       "    <tr style=\"text-align: right;\">\n",
       "      <th></th>\n",
       "      <th>ID_code</th>\n",
       "      <th>target</th>\n",
       "      <th>var_0</th>\n",
       "      <th>var_1</th>\n",
       "      <th>var_2</th>\n",
       "      <th>var_3</th>\n",
       "      <th>var_4</th>\n",
       "      <th>var_5</th>\n",
       "      <th>var_6</th>\n",
       "      <th>var_7</th>\n",
       "      <th>...</th>\n",
       "      <th>var_190</th>\n",
       "      <th>var_191</th>\n",
       "      <th>var_192</th>\n",
       "      <th>var_193</th>\n",
       "      <th>var_194</th>\n",
       "      <th>var_195</th>\n",
       "      <th>var_196</th>\n",
       "      <th>var_197</th>\n",
       "      <th>var_198</th>\n",
       "      <th>var_199</th>\n",
       "    </tr>\n",
       "  </thead>\n",
       "  <tbody>\n",
       "    <tr>\n",
       "      <th>0</th>\n",
       "      <td>train_0</td>\n",
       "      <td>0</td>\n",
       "      <td>8.9255</td>\n",
       "      <td>-6.7863</td>\n",
       "      <td>11.9081</td>\n",
       "      <td>5.0930</td>\n",
       "      <td>11.4607</td>\n",
       "      <td>-9.2834</td>\n",
       "      <td>5.1187</td>\n",
       "      <td>18.6266</td>\n",
       "      <td>...</td>\n",
       "      <td>4.4354</td>\n",
       "      <td>3.9642</td>\n",
       "      <td>3.1364</td>\n",
       "      <td>1.6910</td>\n",
       "      <td>18.5227</td>\n",
       "      <td>-2.3978</td>\n",
       "      <td>7.8784</td>\n",
       "      <td>8.5635</td>\n",
       "      <td>12.7803</td>\n",
       "      <td>-1.0914</td>\n",
       "    </tr>\n",
       "    <tr>\n",
       "      <th>1</th>\n",
       "      <td>train_1</td>\n",
       "      <td>0</td>\n",
       "      <td>11.5006</td>\n",
       "      <td>-4.1473</td>\n",
       "      <td>13.8588</td>\n",
       "      <td>5.3890</td>\n",
       "      <td>12.3622</td>\n",
       "      <td>7.0433</td>\n",
       "      <td>5.6208</td>\n",
       "      <td>16.5338</td>\n",
       "      <td>...</td>\n",
       "      <td>7.6421</td>\n",
       "      <td>7.7214</td>\n",
       "      <td>2.5837</td>\n",
       "      <td>10.9516</td>\n",
       "      <td>15.4305</td>\n",
       "      <td>2.0339</td>\n",
       "      <td>8.1267</td>\n",
       "      <td>8.7889</td>\n",
       "      <td>18.3560</td>\n",
       "      <td>1.9518</td>\n",
       "    </tr>\n",
       "    <tr>\n",
       "      <th>2</th>\n",
       "      <td>train_2</td>\n",
       "      <td>0</td>\n",
       "      <td>8.6093</td>\n",
       "      <td>-2.7457</td>\n",
       "      <td>12.0805</td>\n",
       "      <td>7.8928</td>\n",
       "      <td>10.5825</td>\n",
       "      <td>-9.0837</td>\n",
       "      <td>6.9427</td>\n",
       "      <td>14.6155</td>\n",
       "      <td>...</td>\n",
       "      <td>2.9057</td>\n",
       "      <td>9.7905</td>\n",
       "      <td>1.6704</td>\n",
       "      <td>1.6858</td>\n",
       "      <td>21.6042</td>\n",
       "      <td>3.1417</td>\n",
       "      <td>-6.5213</td>\n",
       "      <td>8.2675</td>\n",
       "      <td>14.7222</td>\n",
       "      <td>0.3965</td>\n",
       "    </tr>\n",
       "    <tr>\n",
       "      <th>3</th>\n",
       "      <td>train_3</td>\n",
       "      <td>0</td>\n",
       "      <td>11.0604</td>\n",
       "      <td>-2.1518</td>\n",
       "      <td>8.9522</td>\n",
       "      <td>7.1957</td>\n",
       "      <td>12.5846</td>\n",
       "      <td>-1.8361</td>\n",
       "      <td>5.8428</td>\n",
       "      <td>14.9250</td>\n",
       "      <td>...</td>\n",
       "      <td>4.4666</td>\n",
       "      <td>4.7433</td>\n",
       "      <td>0.7178</td>\n",
       "      <td>1.4214</td>\n",
       "      <td>23.0347</td>\n",
       "      <td>-1.2706</td>\n",
       "      <td>-2.9275</td>\n",
       "      <td>10.2922</td>\n",
       "      <td>17.9697</td>\n",
       "      <td>-8.9996</td>\n",
       "    </tr>\n",
       "    <tr>\n",
       "      <th>4</th>\n",
       "      <td>train_4</td>\n",
       "      <td>0</td>\n",
       "      <td>9.8369</td>\n",
       "      <td>-1.4834</td>\n",
       "      <td>12.8746</td>\n",
       "      <td>6.6375</td>\n",
       "      <td>12.2772</td>\n",
       "      <td>2.4486</td>\n",
       "      <td>5.9405</td>\n",
       "      <td>19.2514</td>\n",
       "      <td>...</td>\n",
       "      <td>-1.4905</td>\n",
       "      <td>9.5214</td>\n",
       "      <td>-0.1508</td>\n",
       "      <td>9.1942</td>\n",
       "      <td>13.2876</td>\n",
       "      <td>-1.5121</td>\n",
       "      <td>3.9267</td>\n",
       "      <td>9.5031</td>\n",
       "      <td>17.9974</td>\n",
       "      <td>-8.8104</td>\n",
       "    </tr>\n",
       "  </tbody>\n",
       "</table>\n",
       "<p>5 rows × 202 columns</p>\n",
       "</div>"
      ],
      "text/plain": [
       "   ID_code  target    var_0   var_1    var_2   var_3    var_4   var_5   var_6  \\\n",
       "0  train_0       0   8.9255 -6.7863  11.9081  5.0930  11.4607 -9.2834  5.1187   \n",
       "1  train_1       0  11.5006 -4.1473  13.8588  5.3890  12.3622  7.0433  5.6208   \n",
       "2  train_2       0   8.6093 -2.7457  12.0805  7.8928  10.5825 -9.0837  6.9427   \n",
       "3  train_3       0  11.0604 -2.1518   8.9522  7.1957  12.5846 -1.8361  5.8428   \n",
       "4  train_4       0   9.8369 -1.4834  12.8746  6.6375  12.2772  2.4486  5.9405   \n",
       "\n",
       "     var_7   ...     var_190  var_191  var_192  var_193  var_194  var_195  \\\n",
       "0  18.6266   ...      4.4354   3.9642   3.1364   1.6910  18.5227  -2.3978   \n",
       "1  16.5338   ...      7.6421   7.7214   2.5837  10.9516  15.4305   2.0339   \n",
       "2  14.6155   ...      2.9057   9.7905   1.6704   1.6858  21.6042   3.1417   \n",
       "3  14.9250   ...      4.4666   4.7433   0.7178   1.4214  23.0347  -1.2706   \n",
       "4  19.2514   ...     -1.4905   9.5214  -0.1508   9.1942  13.2876  -1.5121   \n",
       "\n",
       "   var_196  var_197  var_198  var_199  \n",
       "0   7.8784   8.5635  12.7803  -1.0914  \n",
       "1   8.1267   8.7889  18.3560   1.9518  \n",
       "2  -6.5213   8.2675  14.7222   0.3965  \n",
       "3  -2.9275  10.2922  17.9697  -8.9996  \n",
       "4   3.9267   9.5031  17.9974  -8.8104  \n",
       "\n",
       "[5 rows x 202 columns]"
      ]
     },
     "execution_count": 3,
     "metadata": {},
     "output_type": "execute_result"
    }
   ],
   "source": [
    "train_df.head()"
   ]
  },
  {
   "cell_type": "code",
   "execution_count": 4,
   "metadata": {},
   "outputs": [
    {
     "data": {
      "text/plain": [
       "20098"
      ]
     },
     "execution_count": 4,
     "metadata": {},
     "output_type": "execute_result"
    }
   ],
   "source": [
    "len(train_df[train_df['target'] == 1])"
   ]
  },
  {
   "cell_type": "code",
   "execution_count": 17,
   "metadata": {},
   "outputs": [],
   "source": [
    "model = lgb.LGBMClassifier(class_weight='balanced')"
   ]
  },
  {
   "cell_type": "code",
   "execution_count": 18,
   "metadata": {},
   "outputs": [
    {
     "data": {
      "text/plain": [
       "LGBMClassifier(boosting_type='gbdt', class_weight='balanced',\n",
       "        colsample_bytree=1.0, importance_type='split', learning_rate=0.1,\n",
       "        max_depth=-1, min_child_samples=20, min_child_weight=0.001,\n",
       "        min_split_gain=0.0, n_estimators=100, n_jobs=-1, num_leaves=31,\n",
       "        objective=None, random_state=None, reg_alpha=0.0, reg_lambda=0.0,\n",
       "        silent=True, subsample=1.0, subsample_for_bin=200000,\n",
       "        subsample_freq=0)"
      ]
     },
     "execution_count": 18,
     "metadata": {},
     "output_type": "execute_result"
    }
   ],
   "source": [
    "model.fit(train_df.iloc[:,2:].values, train_df.iloc[:,1].values)"
   ]
  },
  {
   "cell_type": "code",
   "execution_count": 19,
   "metadata": {},
   "outputs": [
    {
     "name": "stderr",
     "output_type": "stream",
     "text": [
      "/Users/takuro17/.pyenv/versions/anaconda3-5.0.1/lib/python3.6/site-packages/sklearn/model_selection/_split.py:2053: FutureWarning: You should specify a value for 'cv' instead of relying on the default value. The default value will change from 3 to 5 in version 0.22.\n",
      "  warnings.warn(CV_WARNING, FutureWarning)\n"
     ]
    },
    {
     "name": "stdout",
     "output_type": "stream",
     "text": [
      "Cross-Validation scores: [0.81314874 0.81273813 0.81318813]\n"
     ]
    }
   ],
   "source": [
    "scores = cross_val_score(model, train_df.iloc[:,2:].values, train_df.iloc[:,1].values)\n",
    "# 各分割におけるスコア\n",
    "print('Cross-Validation scores: {}'.format(scores))"
   ]
  },
  {
   "cell_type": "code",
   "execution_count": 11,
   "metadata": {},
   "outputs": [],
   "source": [
    "predicted = model.predict(test_df.iloc[:,1:])"
   ]
  },
  {
   "cell_type": "code",
   "execution_count": 12,
   "metadata": {},
   "outputs": [
    {
     "name": "stdout",
     "output_type": "stream",
     "text": [
      "[0 0 0 ... 0 0 0]\n",
      "200000\n",
      "194215\n"
     ]
    }
   ],
   "source": [
    "print(predicted)\n",
    "print(len(predicted))\n",
    "print(sum([1 for i in predicted if i == 0]))"
   ]
  },
  {
   "cell_type": "code",
   "execution_count": 15,
   "metadata": {},
   "outputs": [
    {
     "data": {
      "image/png": "[encoded data removed]",
      "text/plain": [
       "<Figure size 432x288 with 1 Axes>"
      ]
     },
     "metadata": {},
     "output_type": "display_data"
    }
   ],
   "source": [
    "X = np.array(train_df.columns[2:])\n",
    "y = np.array(model.feature_importances_)\n",
    "\n",
    "plt.plot(X,y)\n",
    "plt.show()"
   ]
  },
  {
   "cell_type": "code",
   "execution_count": 16,
   "metadata": {},
   "outputs": [
    {
     "name": "stdout",
     "output_type": "stream",
     "text": [
      "0 var_34 788\n",
      "1 var_21 770\n",
      "2 var_22 758\n",
      "3 var_146 754\n",
      "4 var_99 749\n",
      "5 var_133 749\n",
      "6 var_53 748\n",
      "7 var_76 747\n",
      "8 var_13 740\n",
      "9 var_165 739\n",
      "10 var_40 739\n",
      "11 var_6 731\n",
      "12 var_26 726\n",
      "13 var_148 725\n",
      "14 var_12 722\n",
      "15 var_190 719\n",
      "16 var_110 712\n",
      "17 var_166 712\n",
      "18 var_1 711\n",
      "19 var_78 708\n",
      "20 var_149 708\n",
      "21 var_33 706\n",
      "22 var_92 704\n",
      "23 var_169 704\n",
      "24 var_115 704\n",
      "25 var_191 697\n",
      "26 var_174 696\n",
      "27 var_2 690\n",
      "28 var_67 689\n",
      "29 var_108 688\n",
      "30 var_121 683\n",
      "31 var_154 681\n",
      "32 var_184 676\n",
      "33 var_109 672\n",
      "34 var_198 672\n",
      "35 var_94 672\n",
      "36 var_173 667\n",
      "37 var_179 667\n",
      "38 var_0 664\n",
      "39 var_80 659\n",
      "40 var_9 656\n",
      "41 var_177 648\n",
      "42 var_139 647\n",
      "43 var_170 647\n",
      "44 var_122 646\n",
      "45 var_18 644\n",
      "46 var_91 644\n",
      "47 var_192 642\n",
      "48 var_81 639\n",
      "49 var_118 638\n",
      "50 var_107 625\n",
      "51 var_75 622\n",
      "52 var_127 620\n",
      "53 var_172 620\n",
      "54 var_87 620\n",
      "55 var_155 619\n",
      "56 var_36 619\n",
      "57 var_123 615\n",
      "58 var_164 614\n",
      "59 var_44 613\n",
      "60 var_71 611\n",
      "61 var_89 608\n",
      "62 var_86 594\n",
      "63 var_35 592\n",
      "64 var_147 591\n",
      "65 var_157 587\n",
      "66 var_197 584\n",
      "67 var_48 583\n",
      "68 var_180 583\n",
      "69 var_186 576\n",
      "70 var_162 576\n",
      "71 var_95 572\n",
      "72 var_131 558\n",
      "73 var_90 553\n",
      "74 var_49 553\n",
      "75 var_56 552\n",
      "76 var_137 551\n",
      "77 var_106 550\n",
      "78 var_5 549\n",
      "79 var_145 548\n",
      "80 var_32 546\n",
      "81 var_93 542\n",
      "82 var_150 540\n",
      "83 var_188 536\n",
      "84 var_112 536\n",
      "85 var_195 532\n",
      "86 var_151 532\n",
      "87 var_135 529\n",
      "88 var_141 526\n",
      "89 var_163 525\n",
      "90 var_167 524\n",
      "91 var_132 523\n",
      "92 var_128 523\n",
      "93 var_104 522\n",
      "94 var_70 521\n",
      "95 var_119 519\n",
      "96 var_24 516\n",
      "97 var_125 514\n",
      "98 var_43 511\n",
      "99 var_23 502\n",
      "100 var_52 500\n",
      "101 var_130 498\n",
      "102 var_51 498\n",
      "103 var_31 497\n",
      "104 var_66 489\n",
      "105 var_175 487\n",
      "106 var_28 484\n",
      "107 var_105 482\n",
      "108 var_199 479\n",
      "109 var_116 479\n",
      "110 var_85 477\n",
      "111 var_196 472\n",
      "112 var_45 471\n",
      "113 var_58 469\n",
      "114 var_83 465\n",
      "115 var_8 464\n",
      "116 var_194 461\n",
      "117 var_114 461\n",
      "118 var_144 460\n",
      "119 var_11 459\n",
      "120 var_82 458\n",
      "121 var_111 457\n",
      "122 var_54 446\n",
      "123 var_102 442\n",
      "124 var_178 441\n",
      "125 var_88 436\n",
      "126 var_77 435\n",
      "127 var_156 433\n",
      "128 var_74 424\n",
      "129 var_55 424\n",
      "130 var_63 420\n",
      "131 var_20 419\n",
      "132 var_97 415\n",
      "133 var_138 410\n",
      "134 var_113 410\n",
      "135 var_57 409\n",
      "136 var_134 407\n",
      "137 var_72 406\n",
      "138 var_140 403\n",
      "139 var_187 401\n",
      "140 var_193 401\n",
      "141 var_50 401\n",
      "142 var_62 400\n",
      "143 var_64 400\n",
      "144 var_168 392\n",
      "145 var_15 389\n",
      "146 var_47 383\n",
      "147 var_142 379\n",
      "148 var_7 377\n",
      "149 var_143 377\n",
      "150 var_171 376\n",
      "151 var_159 376\n",
      "152 var_84 373\n",
      "153 var_103 372\n",
      "154 var_65 372\n",
      "155 var_181 370\n",
      "156 var_42 370\n",
      "157 var_153 369\n",
      "158 var_38 368\n",
      "159 var_30 365\n",
      "160 var_37 365\n",
      "161 var_4 363\n",
      "162 var_189 363\n",
      "163 var_19 362\n",
      "164 var_120 362\n",
      "165 var_73 362\n",
      "166 var_152 361\n",
      "167 var_79 361\n",
      "168 var_29 358\n",
      "169 var_101 357\n",
      "170 var_60 356\n",
      "171 var_68 355\n",
      "172 var_61 354\n",
      "173 var_96 352\n",
      "174 var_10 350\n",
      "175 var_3 349\n",
      "176 var_14 346\n",
      "177 var_136 344\n",
      "178 var_25 344\n",
      "179 var_176 344\n",
      "180 var_16 343\n",
      "181 var_160 337\n",
      "182 var_17 336\n",
      "183 var_59 336\n",
      "184 var_158 336\n",
      "185 var_182 335\n",
      "186 var_124 334\n",
      "187 var_98 333\n",
      "188 var_126 332\n",
      "189 var_185 329\n",
      "190 var_100 319\n",
      "191 var_69 318\n",
      "192 var_129 317\n",
      "193 var_27 315\n",
      "194 var_161 313\n",
      "195 var_117 312\n",
      "196 var_39 308\n",
      "197 var_183 306\n",
      "198 var_41 302\n",
      "199 var_46 299\n"
     ]
    }
   ],
   "source": [
    "for idx, x in enumerate(np.argsort(y)[::-1]):\n",
    "    print(idx,X[x], y[x])"
   ]
  },
  {
   "cell_type": "code",
   "execution_count": 1,
   "metadata": {},
   "outputs": [
    {
     "ename": "NameError",
     "evalue": "name 'submit_sample' is not defined",
     "output_type": "error",
     "traceback": [
      "\u001b[0;31m---------------------------------------------------------------------------\u001b[0m",
      "\u001b[0;31mNameError\u001b[0m                                 Traceback (most recent call last)",
      "\u001b[0;32m<ipython-input-1-bc8f708dbf63>\u001b[0m in \u001b[0;36m<module>\u001b[0;34m()\u001b[0m\n\u001b[0;32m----> 1\u001b[0;31m \u001b[0msubmit_sample\u001b[0m\u001b[0;34m.\u001b[0m\u001b[0mdrop\u001b[0m\u001b[0;34m(\u001b[0m\u001b[0;34m'target'\u001b[0m\u001b[0;34m,\u001b[0m \u001b[0maxis\u001b[0m\u001b[0;34m=\u001b[0m\u001b[0;36m1\u001b[0m\u001b[0;34m)\u001b[0m\u001b[0;34m\u001b[0m\u001b[0;34m\u001b[0m\u001b[0m\n\u001b[0m\u001b[1;32m      2\u001b[0m \u001b[0msubmit_sample\u001b[0m\u001b[0;34m[\u001b[0m\u001b[0;34m'target'\u001b[0m\u001b[0;34m]\u001b[0m \u001b[0;34m=\u001b[0m \u001b[0mpredicted\u001b[0m\u001b[0;34m\u001b[0m\u001b[0;34m\u001b[0m\u001b[0m\n\u001b[1;32m      3\u001b[0m \u001b[0msubmit_sample\u001b[0m\u001b[0;34m.\u001b[0m\u001b[0mto_csv\u001b[0m\u001b[0;34m(\u001b[0m\u001b[0;34m'lightgbm_and_add_feature_minmaxmedianstd_kmeans10.csv'\u001b[0m\u001b[0;34m,\u001b[0m \u001b[0mindex\u001b[0m \u001b[0;34m=\u001b[0m \u001b[0;32mFalse\u001b[0m\u001b[0;34m)\u001b[0m\u001b[0;34m\u001b[0m\u001b[0;34m\u001b[0m\u001b[0m\n",
      "\u001b[0;31mNameError\u001b[0m: name 'submit_sample' is not defined"
     ]
    }
   ],
   "source": [
    "submit_sample.drop('target', axis=1)\n",
    "submit_sample['target'] = predicted\n",
    "submit_sample.to_csv('lightgbm_and_add_feature_minmaxmedianstd_kmeans10.csv', index = False)"
   ]
  }
 ],
 "metadata": {
  "kernelspec": {
   "display_name": "Python 3",
   "language": "python",
   "name": "python3"
  },
  "language_info": {
   "codemirror_mode": {
    "name": "ipython",
    "version": 3
   },
   "file_extension": ".py",
   "mimetype": "text/x-python",
   "name": "python",
   "nbconvert_exporter": "python",
   "pygments_lexer": "ipython3",
   "version": "3.6.8"
  }
 },
 "nbformat": 4,
 "nbformat_minor": 2
}
