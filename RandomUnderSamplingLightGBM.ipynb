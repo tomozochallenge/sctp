{
 "cells": [
  {
   "cell_type": "code",
   "execution_count": 1,
   "metadata": {},
   "outputs": [
    {
     "name": "stderr",
     "output_type": "stream",
     "text": [
      "/Users/takuro17/.pyenv/versions/anaconda3-5.0.1/lib/python3.6/site-packages/lightgbm/__init__.py:46: UserWarning: Starting from version 2.2.1, the library file in distribution wheels for macOS is built by the Apple Clang (Xcode_9.4.1) compiler.\n",
      "This means that in case of installing LightGBM from PyPI via the ``pip install lightgbm`` command, you don't need to install the gcc compiler anymore.\n",
      "Instead of that, you need to install the OpenMP library, which is required for running LightGBM on the system with the Apple Clang compiler.\n",
      "You can install the OpenMP library by the following command: ``brew install libomp``.\n",
      "  \"You can install the OpenMP library by the following command: ``brew install libomp``.\", UserWarning)\n"
     ]
    }
   ],
   "source": [
    "import pandas as pd\n",
    "from matplotlib import pyplot as plt\n",
    "from sklearn import tree\n",
    "from sklearn.model_selection import cross_val_score\n",
    "import numpy as np\n",
    "\n",
    "import lightgbm as lgb\n",
    "from imblearn.under_sampling import RandomUnderSampler"
   ]
  },
  {
   "cell_type": "code",
   "execution_count": 2,
   "metadata": {},
   "outputs": [],
   "source": [
    "train_df = pd.read_csv(\"resources/train.csv\")\n",
    "test_df = pd.read_csv(\"resources/test.csv\")\n",
    "submit = pd.read_csv(\"resources/sample_submission.csv\")"
   ]
  },
  {
   "cell_type": "code",
   "execution_count": 3,
   "metadata": {},
   "outputs": [],
   "source": [
    "X_train = train_df.iloc[:,2:].values\n",
    "y_train = train_df.iloc[:,1].values"
   ]
  },
  {
   "cell_type": "code",
   "execution_count": 4,
   "metadata": {},
   "outputs": [
    {
     "data": {
      "text/html": [
       "<div>\n",
       "<style>\n",
       "    .dataframe thead tr:only-child th {\n",
       "        text-align: right;\n",
       "    }\n",
       "\n",
       "    .dataframe thead th {\n",
       "        text-align: left;\n",
       "    }\n",
       "\n",
       "    .dataframe tbody tr th {\n",
       "        vertical-align: top;\n",
       "    }\n",
       "</style>\n",
       "<table border=\"1\" class=\"dataframe\">\n",
       "  <thead>\n",
       "    <tr style=\"text-align: right;\">\n",
       "      <th></th>\n",
       "      <th>ID_code</th>\n",
       "      <th>target</th>\n",
       "      <th>var_0</th>\n",
       "      <th>var_1</th>\n",
       "      <th>var_2</th>\n",
       "      <th>var_3</th>\n",
       "      <th>var_4</th>\n",
       "      <th>var_5</th>\n",
       "      <th>var_6</th>\n",
       "      <th>var_7</th>\n",
       "      <th>...</th>\n",
       "      <th>var_190</th>\n",
       "      <th>var_191</th>\n",
       "      <th>var_192</th>\n",
       "      <th>var_193</th>\n",
       "      <th>var_194</th>\n",
       "      <th>var_195</th>\n",
       "      <th>var_196</th>\n",
       "      <th>var_197</th>\n",
       "      <th>var_198</th>\n",
       "      <th>var_199</th>\n",
       "    </tr>\n",
       "  </thead>\n",
       "  <tbody>\n",
       "    <tr>\n",
       "      <th>0</th>\n",
       "      <td>train_0</td>\n",
       "      <td>0</td>\n",
       "      <td>8.9255</td>\n",
       "      <td>-6.7863</td>\n",
       "      <td>11.9081</td>\n",
       "      <td>5.0930</td>\n",
       "      <td>11.4607</td>\n",
       "      <td>-9.2834</td>\n",
       "      <td>5.1187</td>\n",
       "      <td>18.6266</td>\n",
       "      <td>...</td>\n",
       "      <td>4.4354</td>\n",
       "      <td>3.9642</td>\n",
       "      <td>3.1364</td>\n",
       "      <td>1.6910</td>\n",
       "      <td>18.5227</td>\n",
       "      <td>-2.3978</td>\n",
       "      <td>7.8784</td>\n",
       "      <td>8.5635</td>\n",
       "      <td>12.7803</td>\n",
       "      <td>-1.0914</td>\n",
       "    </tr>\n",
       "    <tr>\n",
       "      <th>1</th>\n",
       "      <td>train_1</td>\n",
       "      <td>0</td>\n",
       "      <td>11.5006</td>\n",
       "      <td>-4.1473</td>\n",
       "      <td>13.8588</td>\n",
       "      <td>5.3890</td>\n",
       "      <td>12.3622</td>\n",
       "      <td>7.0433</td>\n",
       "      <td>5.6208</td>\n",
       "      <td>16.5338</td>\n",
       "      <td>...</td>\n",
       "      <td>7.6421</td>\n",
       "      <td>7.7214</td>\n",
       "      <td>2.5837</td>\n",
       "      <td>10.9516</td>\n",
       "      <td>15.4305</td>\n",
       "      <td>2.0339</td>\n",
       "      <td>8.1267</td>\n",
       "      <td>8.7889</td>\n",
       "      <td>18.3560</td>\n",
       "      <td>1.9518</td>\n",
       "    </tr>\n",
       "    <tr>\n",
       "      <th>2</th>\n",
       "      <td>train_2</td>\n",
       "      <td>0</td>\n",
       "      <td>8.6093</td>\n",
       "      <td>-2.7457</td>\n",
       "      <td>12.0805</td>\n",
       "      <td>7.8928</td>\n",
       "      <td>10.5825</td>\n",
       "      <td>-9.0837</td>\n",
       "      <td>6.9427</td>\n",
       "      <td>14.6155</td>\n",
       "      <td>...</td>\n",
       "      <td>2.9057</td>\n",
       "      <td>9.7905</td>\n",
       "      <td>1.6704</td>\n",
       "      <td>1.6858</td>\n",
       "      <td>21.6042</td>\n",
       "      <td>3.1417</td>\n",
       "      <td>-6.5213</td>\n",
       "      <td>8.2675</td>\n",
       "      <td>14.7222</td>\n",
       "      <td>0.3965</td>\n",
       "    </tr>\n",
       "    <tr>\n",
       "      <th>3</th>\n",
       "      <td>train_3</td>\n",
       "      <td>0</td>\n",
       "      <td>11.0604</td>\n",
       "      <td>-2.1518</td>\n",
       "      <td>8.9522</td>\n",
       "      <td>7.1957</td>\n",
       "      <td>12.5846</td>\n",
       "      <td>-1.8361</td>\n",
       "      <td>5.8428</td>\n",
       "      <td>14.9250</td>\n",
       "      <td>...</td>\n",
       "      <td>4.4666</td>\n",
       "      <td>4.7433</td>\n",
       "      <td>0.7178</td>\n",
       "      <td>1.4214</td>\n",
       "      <td>23.0347</td>\n",
       "      <td>-1.2706</td>\n",
       "      <td>-2.9275</td>\n",
       "      <td>10.2922</td>\n",
       "      <td>17.9697</td>\n",
       "      <td>-8.9996</td>\n",
       "    </tr>\n",
       "    <tr>\n",
       "      <th>4</th>\n",
       "      <td>train_4</td>\n",
       "      <td>0</td>\n",
       "      <td>9.8369</td>\n",
       "      <td>-1.4834</td>\n",
       "      <td>12.8746</td>\n",
       "      <td>6.6375</td>\n",
       "      <td>12.2772</td>\n",
       "      <td>2.4486</td>\n",
       "      <td>5.9405</td>\n",
       "      <td>19.2514</td>\n",
       "      <td>...</td>\n",
       "      <td>-1.4905</td>\n",
       "      <td>9.5214</td>\n",
       "      <td>-0.1508</td>\n",
       "      <td>9.1942</td>\n",
       "      <td>13.2876</td>\n",
       "      <td>-1.5121</td>\n",
       "      <td>3.9267</td>\n",
       "      <td>9.5031</td>\n",
       "      <td>17.9974</td>\n",
       "      <td>-8.8104</td>\n",
       "    </tr>\n",
       "  </tbody>\n",
       "</table>\n",
       "<p>5 rows × 202 columns</p>\n",
       "</div>"
      ],
      "text/plain": [
       "   ID_code  target    var_0   var_1    var_2   var_3    var_4   var_5   var_6  \\\n",
       "0  train_0       0   8.9255 -6.7863  11.9081  5.0930  11.4607 -9.2834  5.1187   \n",
       "1  train_1       0  11.5006 -4.1473  13.8588  5.3890  12.3622  7.0433  5.6208   \n",
       "2  train_2       0   8.6093 -2.7457  12.0805  7.8928  10.5825 -9.0837  6.9427   \n",
       "3  train_3       0  11.0604 -2.1518   8.9522  7.1957  12.5846 -1.8361  5.8428   \n",
       "4  train_4       0   9.8369 -1.4834  12.8746  6.6375  12.2772  2.4486  5.9405   \n",
       "\n",
       "     var_7   ...     var_190  var_191  var_192  var_193  var_194  var_195  \\\n",
       "0  18.6266   ...      4.4354   3.9642   3.1364   1.6910  18.5227  -2.3978   \n",
       "1  16.5338   ...      7.6421   7.7214   2.5837  10.9516  15.4305   2.0339   \n",
       "2  14.6155   ...      2.9057   9.7905   1.6704   1.6858  21.6042   3.1417   \n",
       "3  14.9250   ...      4.4666   4.7433   0.7178   1.4214  23.0347  -1.2706   \n",
       "4  19.2514   ...     -1.4905   9.5214  -0.1508   9.1942  13.2876  -1.5121   \n",
       "\n",
       "   var_196  var_197  var_198  var_199  \n",
       "0   7.8784   8.5635  12.7803  -1.0914  \n",
       "1   8.1267   8.7889  18.3560   1.9518  \n",
       "2  -6.5213   8.2675  14.7222   0.3965  \n",
       "3  -2.9275  10.2922  17.9697  -8.9996  \n",
       "4   3.9267   9.5031  17.9974  -8.8104  \n",
       "\n",
       "[5 rows x 202 columns]"
      ]
     },
     "execution_count": 4,
     "metadata": {},
     "output_type": "execute_result"
    }
   ],
   "source": [
    "train_df.head()"
   ]
  },
  {
   "cell_type": "code",
   "execution_count": 5,
   "metadata": {},
   "outputs": [
    {
     "name": "stdout",
     "output_type": "stream",
     "text": [
      "20098 179902\n",
      "(60294, 200)\n"
     ]
    }
   ],
   "source": [
    "# 正例の数を保存\n",
    "num_train_df_p = len(train_df[train_df['target'] == 1])\n",
    "num_train_df_n = len(train_df[train_df['target'] == 0])\n",
    "print(num_train_df_p, num_train_df_n)\n",
    "\n",
    "rus = RandomUnderSampler(ratio={0: num_train_df_p*2, 1: num_train_df_p}, random_state=70)\n",
    "\n",
    "# 学習用データに反映\n",
    "X_train, y_train = rus.fit_sample(train_df.iloc[:,2:].values, train_df.iloc[:,1].values)\n",
    "print(X_train.shape)"
   ]
  },
  {
   "cell_type": "code",
   "execution_count": 6,
   "metadata": {},
   "outputs": [
    {
     "data": {
      "text/plain": [
       "LGBMClassifier(boosting_type='gbdt', class_weight=None, colsample_bytree=1.0,\n",
       "        importance_type='split', learning_rate=0.1, max_depth=-1,\n",
       "        min_child_samples=20, min_child_weight=0.001, min_split_gain=0.0,\n",
       "        n_estimators=100, n_jobs=-1, num_leaves=31, objective=None,\n",
       "        random_state=None, reg_alpha=0.0, reg_lambda=0.0, silent=True,\n",
       "        subsample=1.0, subsample_for_bin=200000, subsample_freq=0)"
      ]
     },
     "execution_count": 6,
     "metadata": {},
     "output_type": "execute_result"
    }
   ],
   "source": [
    "model = lgb.LGBMClassifier()\n",
    "model.fit(X_train, y_train)"
   ]
  },
  {
   "cell_type": "code",
   "execution_count": null,
   "metadata": {},
   "outputs": [
    {
     "name": "stdout",
     "output_type": "stream",
     "text": [
      "Fitting 3 folds for each of 27 candidates, totalling 81 fits\n"
     ]
    },
    {
     "name": "stderr",
     "output_type": "stream",
     "text": [
      "[Parallel(n_jobs=-1)]: Using backend LokyBackend with 4 concurrent workers.\n",
      "[Parallel(n_jobs=-1)]: Done  10 tasks      | elapsed: 42.1min\n"
     ]
    }
   ],
   "source": [
    "# model = lgb.LGBMClassifier(class_weight='balanced')\n",
    "# param_dist = {\"max_depth\": [25,50, 75],\n",
    "#               \"learning_rate\" : [0.01,0.05,0.1],\n",
    "#               \"num_leaves\": [300,900,1200],\n",
    "#               \"n_estimators\": [200]\n",
    "#              }\n",
    "\n",
    "# from sklearn.model_selection import GridSearchCV\n",
    "# grid_search = GridSearchCV(model, n_jobs=-1, param_grid=param_dist, cv = 3, scoring=\"roc_auc\", verbose=5)\n",
    "# grid_search.fit(X_train, y_train)\n",
    "# grid_search.best_estimator_"
   ]
  },
  {
   "cell_type": "code",
   "execution_count": 7,
   "metadata": {},
   "outputs": [
    {
     "name": "stderr",
     "output_type": "stream",
     "text": [
      "/Users/takuro17/.pyenv/versions/anaconda3-5.0.1/lib/python3.6/site-packages/sklearn/model_selection/_split.py:2053: FutureWarning: You should specify a value for 'cv' instead of relying on the default value. The default value will change from 3 to 5 in version 0.22.\n",
      "  warnings.warn(CV_WARNING, FutureWarning)\n"
     ]
    },
    {
     "name": "stdout",
     "output_type": "stream",
     "text": [
      "Cross-Validation scores: [0.80173143 0.80296547 0.80345325]\n"
     ]
    }
   ],
   "source": [
    "scores = cross_val_score(model, X_train, y_train)\n",
    "# 各分割におけるスコア\n",
    "print('Cross-Validation scores: {}'.format(scores))"
   ]
  },
  {
   "cell_type": "code",
   "execution_count": 9,
   "metadata": {},
   "outputs": [],
   "source": [
    "predicted = model.predict(test_df.iloc[:,1:])"
   ]
  },
  {
   "cell_type": "code",
   "execution_count": 11,
   "metadata": {},
   "outputs": [
    {
     "name": "stdout",
     "output_type": "stream",
     "text": [
      "[0 0 0 ... 0 0 0]\n",
      "200000\n",
      "178600\n"
     ]
    }
   ],
   "source": [
    "print(predicted)\n",
    "print(len(predicted))\n",
    "print(sum([1 for i in predicted if i == 0]))"
   ]
  },
  {
   "cell_type": "code",
   "execution_count": 12,
   "metadata": {
    "scrolled": true
   },
   "outputs": [],
   "source": [
    "submit.drop('target', axis=1)\n",
    "submit['target'] = predicted\n",
    "submit.to_csv('under_sampling_lightgbm.csv', index = False)"
   ]
  },
  {
   "cell_type": "code",
   "execution_count": 42,
   "metadata": {},
   "outputs": [
    {
     "data": {
      "image/png": "[encoded data removed]",
      "text/plain": [
       "<Figure size 432x288 with 1 Axes>"
      ]
     },
     "metadata": {},
     "output_type": "display_data"
    }
   ],
   "source": [
    "X = np.array(train_df.columns[2:])\n",
    "y = np.array(model.feature_importances_)\n",
    "\n",
    "plt.plot(X,y)\n",
    "plt.show()"
   ]
  },
  {
   "cell_type": "code",
   "execution_count": 40,
   "metadata": {},
   "outputs": [
    {
     "name": "stdout",
     "output_type": "stream",
     "text": [
      "0 var_53 59\n",
      "1 var_21 52\n",
      "2 var_146 52\n",
      "3 var_166 48\n",
      "4 var_34 47\n",
      "5 var_190 47\n",
      "6 var_110 47\n",
      "7 var_165 47\n",
      "8 var_174 47\n",
      "9 var_99 46\n",
      "10 var_12 46\n",
      "11 var_6 45\n",
      "12 var_22 44\n",
      "13 var_78 44\n",
      "14 var_139 44\n",
      "15 var_109 43\n",
      "16 var_76 42\n",
      "17 var_80 42\n",
      "18 var_26 41\n",
      "19 var_2 41\n",
      "20 var_40 40\n",
      "21 var_44 38\n",
      "22 var_92 38\n",
      "23 var_33 38\n",
      "24 var_170 37\n",
      "25 var_0 37\n",
      "26 var_133 36\n",
      "27 var_184 36\n",
      "28 var_115 36\n",
      "29 var_94 36\n",
      "30 var_81 35\n",
      "31 var_9 34\n",
      "32 var_13 34\n",
      "33 var_148 33\n",
      "34 var_179 33\n",
      "35 var_198 31\n",
      "36 var_122 31\n",
      "37 var_86 31\n",
      "38 var_154 31\n",
      "39 var_191 31\n",
      "40 var_1 31\n",
      "41 var_164 31\n",
      "42 var_108 30\n",
      "43 var_75 30\n",
      "44 var_173 30\n",
      "45 var_169 30\n",
      "46 var_67 29\n",
      "47 var_91 29\n",
      "48 var_18 29\n",
      "49 var_121 29\n",
      "50 var_107 28\n",
      "51 var_188 28\n",
      "52 var_123 28\n",
      "53 var_177 26\n",
      "54 var_127 26\n",
      "55 var_118 26\n",
      "56 var_89 26\n",
      "57 var_197 26\n",
      "58 var_149 24\n",
      "59 var_87 24\n",
      "60 var_36 24\n",
      "61 var_192 23\n",
      "62 var_56 22\n",
      "63 var_172 22\n",
      "64 var_155 22\n",
      "65 var_5 21\n",
      "66 var_95 21\n",
      "67 var_130 21\n",
      "68 var_147 21\n",
      "69 var_180 20\n",
      "70 var_93 19\n",
      "71 var_35 19\n",
      "72 var_119 19\n",
      "73 var_32 17\n",
      "74 var_195 17\n",
      "75 var_131 17\n",
      "76 var_163 16\n",
      "77 var_128 16\n",
      "78 var_157 16\n",
      "79 var_71 15\n",
      "80 var_141 15\n",
      "81 var_106 15\n",
      "82 var_49 15\n",
      "83 var_125 14\n",
      "84 var_137 14\n",
      "85 var_162 14\n",
      "86 var_52 14\n",
      "87 var_145 13\n",
      "88 var_167 13\n",
      "89 var_43 13\n",
      "90 var_70 12\n",
      "91 var_111 11\n",
      "92 var_112 11\n",
      "93 var_48 11\n",
      "94 var_150 10\n",
      "95 var_104 10\n",
      "96 var_151 9\n",
      "97 var_28 9\n",
      "98 var_90 9\n",
      "99 var_196 9\n",
      "100 var_186 9\n",
      "101 var_23 8\n",
      "102 var_135 8\n",
      "103 var_132 8\n",
      "104 var_85 7\n",
      "105 var_58 7\n",
      "106 var_51 7\n",
      "107 var_175 7\n",
      "108 var_199 7\n",
      "109 var_114 7\n",
      "110 var_156 7\n",
      "111 var_31 6\n",
      "112 var_134 6\n",
      "113 var_82 6\n",
      "114 var_83 5\n",
      "115 var_178 5\n",
      "116 var_20 5\n",
      "117 var_105 5\n",
      "118 var_45 4\n",
      "119 var_142 4\n",
      "120 var_168 4\n",
      "121 var_24 4\n",
      "122 var_54 4\n",
      "123 var_88 3\n",
      "124 var_116 3\n",
      "125 var_72 3\n",
      "126 var_97 3\n",
      "127 var_144 3\n",
      "128 var_8 3\n",
      "129 var_138 3\n",
      "130 var_15 2\n",
      "131 var_102 2\n",
      "132 var_63 2\n",
      "133 var_66 2\n",
      "134 var_193 2\n",
      "135 var_194 2\n",
      "136 var_11 2\n",
      "137 var_140 2\n",
      "138 var_55 2\n",
      "139 var_74 2\n",
      "140 var_4 1\n",
      "141 var_152 1\n",
      "142 var_187 1\n",
      "143 var_16 1\n",
      "144 var_77 1\n",
      "145 var_113 1\n",
      "146 var_176 1\n",
      "147 var_64 1\n",
      "148 var_68 1\n",
      "149 var_57 1\n",
      "150 var_100 0\n",
      "151 var_73 0\n",
      "152 var_25 0\n",
      "153 var_171 0\n",
      "154 var_65 0\n",
      "155 var_161 0\n",
      "156 var_98 0\n",
      "157 var_69 0\n",
      "158 var_19 0\n",
      "159 var_103 0\n",
      "160 var_17 0\n",
      "161 var_185 0\n",
      "162 var_84 0\n",
      "163 var_14 0\n",
      "164 var_136 0\n",
      "165 var_143 0\n",
      "166 var_3 0\n",
      "167 var_10 0\n",
      "168 var_79 0\n",
      "169 var_183 0\n",
      "170 var_7 0\n",
      "171 var_101 0\n",
      "172 var_153 0\n",
      "173 var_27 0\n",
      "174 var_62 0\n",
      "175 var_29 0\n",
      "176 var_160 0\n",
      "177 var_181 0\n",
      "178 var_50 0\n",
      "179 var_117 0\n",
      "180 var_120 0\n",
      "181 var_47 0\n",
      "182 var_46 0\n",
      "183 var_96 0\n",
      "184 var_59 0\n",
      "185 var_159 0\n",
      "186 var_42 0\n",
      "187 var_41 0\n",
      "188 var_124 0\n",
      "189 var_39 0\n",
      "190 var_38 0\n",
      "191 var_37 0\n",
      "192 var_126 0\n",
      "193 var_129 0\n",
      "194 var_189 0\n",
      "195 var_60 0\n",
      "196 var_158 0\n",
      "197 var_61 0\n",
      "198 var_30 0\n",
      "199 var_182 0\n"
     ]
    }
   ],
   "source": [
    "for idx, x in enumerate(np.argsort(y)[::-1]):\n",
    "    print(idx,X[x], y[x])"
   ]
  }
 ],
 "metadata": {
  "kernelspec": {
   "display_name": "Python 3",
   "language": "python",
   "name": "python3"
  },
  "language_info": {
   "codemirror_mode": {
    "name": "ipython",
    "version": 3
   },
   "file_extension": ".py",
   "mimetype": "text/x-python",
   "name": "python",
   "nbconvert_exporter": "python",
   "pygments_lexer": "ipython3",
   "version": "3.6.8"
  }
 },
 "nbformat": 4,
 "nbformat_minor": 2
}
